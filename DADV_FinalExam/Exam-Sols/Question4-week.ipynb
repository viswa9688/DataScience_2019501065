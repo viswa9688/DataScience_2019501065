{
 "cells": [
  {
   "cell_type": "code",
   "execution_count": 1,
   "metadata": {},
   "outputs": [],
   "source": [
    "from bs4 import BeautifulSoup\n",
    "import requests\n",
    "import pandas as pd\n",
    "import numpy as np\n",
    "import matplotlib.pyplot as plt"
   ]
  },
  {
   "cell_type": "code",
   "execution_count": 2,
   "metadata": {},
   "outputs": [],
   "source": [
    "def extract_data(sectors):\n",
    "    html_content = requests.get(sectors).text\n",
    "    soup = BeautifulSoup(html_content, \"html\") \n",
    "    find_table = soup.find('table', class_='wikitable sortable')\n",
    "    j = 0\n",
    "    full_val = []\n",
    "    for link in find_table.find_all('tr'):\n",
    "        j += 1\n",
    "        if(j == 1):\n",
    "            continue\n",
    "        i = 0\n",
    "        d = {}\n",
    "        for ele in link.find_all('td'):\n",
    "            i += 1\n",
    "            if(i == 1):\n",
    "                st = ele.text\n",
    "                st = st[:-1]\n",
    "                d['symbol'] = st\n",
    "            elif(i == 4):\n",
    "                d['gics_sector'] = ele.text\n",
    "        \n",
    "        full_val.append(d)\n",
    "    df = pd.DataFrame(full_val)\n",
    "    # print(df)\n",
    "    df1 = pd.DataFrame()\n",
    "    df1[\"Company\"] = df[\"symbol\"]\n",
    "    df1[\"GICS_Sector\"] = df['gics_sector']\n",
    "    df1.to_csv(\"GICS_Sectors.csv\", index=False)\n",
    "    return full_val\n"
   ]
  },
  {
   "cell_type": "code",
   "execution_count": 3,
   "metadata": {},
   "outputs": [],
   "source": [
    "def daily_graph(val):\n",
    "    top_data = pd.read_csv(\"Week_top_dict.csv\")\n",
    "    bottom_data = pd.read_csv(\"Week_bottom_dict.csv\")\n",
    "    gicssectors = pd.read_csv(\"GICS_Sectors.csv\")\n",
    "    week_topdata = pd.merge(top_data,gicssectors,on=\"Company\")\n",
    "    week_bottomdata = pd.merge(bottom_data,gicssectors,on=\"Company\")\n",
    "    week_topdata_mean = week_topdata.groupby('GICS_Sector').count().reset_index()\n",
    "    week_bottomdata_mean = week_bottomdata.groupby('GICS_Sector').count().reset_index()\n",
    "    top_dict = week_topdata_mean.to_dict()\n",
    "    top_dict1 = {}\n",
    "    listt = list(top_dict.values())\n",
    "    for i in range(9):\n",
    "        top_dict1[listt[0][i]] = listt[1][i]\n",
    "    bottom_dict = week_bottomdata_mean.to_dict()\n",
    "#     print(top_dict)\n",
    "#     print(bottom_dict)\n",
    "    bottom_dict1 = {}\n",
    "    listt1 = list(bottom_dict.values())\n",
    "    for i in range(8):\n",
    "        bottom_dict1[listt1[0][i]] = listt1[1][i]\n",
    "    return top_dict1,bottom_dict1\n"
   ]
  },
  {
   "cell_type": "code",
   "execution_count": 4,
   "metadata": {},
   "outputs": [],
   "source": [
    "def bar_graph(dp_top,dp_bottom):\n",
    "    top_new = []\n",
    "    bottom_new = []\n",
    "    for i in dp_top.keys():\n",
    "        if i not in dp_bottom.keys():\n",
    "            dp_bottom[i] = 0\n",
    "    for i in dp_bottom.keys():\n",
    "        if i not in dp_top.keys():\n",
    "            dp_top[i] = 0\n",
    "    dp_top = dict(sorted(dp_top.items(), key=lambda item: item[0]))\n",
    "    dp_bottom = dict(sorted(dp_bottom.items(), key=lambda item: item[0]))\n",
    "#     print(dp_top)\n",
    "#     print(dp_bottom)\n",
    "    top_new = list(dp_top.values())\n",
    "    bottom_new = list(dp_bottom.values())\n",
    "\n",
    "    data = []\n",
    "    data.append(top_new)\n",
    "    data.append(bottom_new)\n",
    "\n",
    "    barWidth = 0.25\n",
    "    fig = plt.subplots(figsize=(25,9))\n",
    "    br1 = np.arange(len(top_new))\n",
    "    br2 = [x + barWidth for x in br1]\n",
    "    dp_new = list(dp_top.keys())\n",
    "\n",
    "    plt.bar(br1, top_new, color ='g', width = barWidth, \n",
    "        edgecolor ='grey', label ='Top 25 companies') \n",
    "    plt.bar(br2, bottom_new, color ='r', width = barWidth, \n",
    "        edgecolor ='grey', label ='Bottom 25 companies') \n",
    "    plt.legend(labels=['Top 25', 'Bottom 25'])\n",
    "    plt.xlabel('Sectors', fontweight ='bold') \n",
    "    plt.ylabel('Count', fontweight ='bold')\n",
    "    plt.xticks([r + barWidth for r in range(len(top_new))], \n",
    "    dp_new) \n",
    "\n",
    "    plt.show()\n"
   ]
  },
  {
   "cell_type": "code",
   "execution_count": 5,
   "metadata": {},
   "outputs": [],
   "source": [
    "def function(sectors):\n",
    "    val = extract_data(sectors)\n",
    "    dp_top, dp_bottom = daily_graph(val)\n",
    "    bar_graph(dp_top,dp_bottom)\n"
   ]
  },
  {
   "cell_type": "code",
   "execution_count": 6,
   "metadata": {
    "tags": []
   },
   "outputs": [
    {
     "name": "stdout",
     "output_type": "stream",
     "text": [
      "{'GICS_Sector': {0: 'Communication Services', 1: 'Consumer Discretionary', 2: 'Energy', 3: 'Financials', 4: 'Health Care', 5: 'Industrials', 6: 'Information Technology', 7: 'Materials', 8: 'Utilities'}, 'Company': {0: 2, 1: 1, 2: 1, 3: 6, 4: 3, 5: 3, 6: 3, 7: 3, 8: 3}, 'Value': {0: 2, 1: 1, 2: 1, 3: 6, 4: 3, 5: 3, 6: 3, 7: 3, 8: 3}}\n",
      "{'GICS_Sector': {0: 'Communication Services', 1: 'Consumer Discretionary', 2: 'Consumer Staples', 3: 'Health Care', 4: 'Industrials', 5: 'Information Technology', 6: 'Materials', 7: 'Real Estate'}, 'Company': {0: 2, 1: 3, 2: 2, 3: 5, 4: 1, 5: 8, 6: 1, 7: 3}, 'Value': {0: 2, 1: 3, 2: 2, 3: 5, 4: 1, 5: 8, 6: 1, 7: 3}}\n",
      "{'Communication Services': 2, 'Consumer Discretionary': 1, 'Consumer Staples': 0, 'Energy': 1, 'Financials': 6, 'Health Care': 3, 'Industrials': 3, 'Information Technology': 3, 'Materials': 3, 'Real Estate': 0, 'Utilities': 3}\n",
      "{'Communication Services': 2, 'Consumer Discretionary': 3, 'Consumer Staples': 2, 'Energy': 0, 'Financials': 0, 'Health Care': 5, 'Industrials': 1, 'Information Technology': 8, 'Materials': 1, 'Real Estate': 3, 'Utilities': 0}\n"
     ]
    },
    {
     "data": {
      "image/png": "[encoded data removed]",
      "text/plain": [
       "<Figure size 1800x648 with 1 Axes>"
      ]
     },
     "metadata": {
      "needs_background": "light"
     },
     "output_type": "display_data"
    }
   ],
   "source": [
    "url = 'https://en.wikipedia.org/wiki/List_of_S%26P_500_companies'\n",
    "function(url)"
   ]
  }
 ],
 "metadata": {
  "kernelspec": {
   "display_name": "Python 3",
   "language": "python",
   "name": "python3"
  },
  "language_info": {
   "codemirror_mode": {
    "name": "ipython",
    "version": 3
   },
   "file_extension": ".py",
   "mimetype": "text/x-python",
   "name": "python",
   "nbconvert_exporter": "python",
   "pygments_lexer": "ipython3",
   "version": "3.8.3"
  },
  "metadata": {
   "interpreter": {
    "hash": "d94ced1cfaa7a577b1a92978a713d67829e9d58ef52aaace7ec784d3a2026c54"
   }
  }
 },
 "nbformat": 4,
 "nbformat_minor": 2
}
