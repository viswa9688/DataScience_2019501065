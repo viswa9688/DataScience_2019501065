{
 "cells": [
  {
   "cell_type": "code",
   "execution_count": 2,
   "metadata": {},
   "outputs": [],
   "source": [
    "import pandas as pd\n",
    "import numpy as np\n",
    "import matplotlib.pyplot as plt\n",
    "from sklearn.preprocessing import OneHotEncoder\n",
    "from sklearn.model_selection import train_test_split\n",
    "from sklearn import preprocessing\n",
    "from sklearn.impute import KNNImputer\n",
    "from sklearn.linear_model import Ridge\n",
    "from sklearn.linear_model import LinearRegression\n",
    "from sklearn.metrics import mean_squared_error as mserr\n",
    "path=\"C:\\\\Users\\\\HARIKA\\\\Desktop\\\\DataScience_2019501065\\\\Intro_to_ML\\\\Code Camp1\\\\linear regression\\\\\"\n",
    "train = path + \"train.csv\"\n",
    "test = path + \"test.csv\""
   ]
  },
  {
   "cell_type": "code",
   "execution_count": 3,
   "metadata": {},
   "outputs": [
    {
     "name": "stdout",
     "output_type": "stream",
     "text": [
      "(1460, 80)\n"
     ]
    }
   ],
   "source": [
    "trainx_df = pd.read_csv(train, index_col = 'Id')\n",
    "print(trainx_df.shape)"
   ]
  },
  {
   "cell_type": "code",
   "execution_count": 4,
   "metadata": {},
   "outputs": [
    {
     "name": "stdout",
     "output_type": "stream",
     "text": [
      "(1460,)\n"
     ]
    }
   ],
   "source": [
    "trainy_df = trainx_df['SalePrice']\n",
    "print(trainy_df.shape)"
   ]
  },
  {
   "cell_type": "code",
   "execution_count": 5,
   "metadata": {},
   "outputs": [
    {
     "name": "stdout",
     "output_type": "stream",
     "text": [
      "MSSubClass         0\n",
      "MSZoning           0\n",
      "LotFrontage      259\n",
      "LotArea            0\n",
      "Street             0\n",
      "                ... \n",
      "MiscVal            0\n",
      "MoSold             0\n",
      "YrSold             0\n",
      "SaleType           0\n",
      "SaleCondition      0\n",
      "Length: 79, dtype: int64\n"
     ]
    }
   ],
   "source": [
    "trainx_df.drop('SalePrice', axis=1, inplace=True)\n",
    "testx_df = pd.read_csv(test, index_col='Id')\n",
    "print(trainx_df.isnull().sum())\n"
   ]
  },
  {
   "cell_type": "code",
   "execution_count": 6,
   "metadata": {},
   "outputs": [
    {
     "name": "stdout",
     "output_type": "stream",
     "text": [
      "[['LotFrontage', 0.1773972602739726], ['Alley', 0.9376712328767123], ['MasVnrType', 0.005479452054794521], ['MasVnrArea', 0.005479452054794521], ['BsmtQual', 0.025342465753424658], ['BsmtCond', 0.025342465753424658], ['BsmtExposure', 0.026027397260273973], ['BsmtFinType1', 0.025342465753424658], ['BsmtFinType2', 0.026027397260273973], ['Electrical', 0.0006849315068493151], ['FireplaceQu', 0.4726027397260274], ['GarageType', 0.05547945205479452], ['GarageYrBlt', 0.05547945205479452], ['GarageFinish', 0.05547945205479452], ['GarageQual', 0.05547945205479452], ['GarageCond', 0.05547945205479452], ['PoolQC', 0.9952054794520548], ['Fence', 0.8075342465753425], ['MiscFeature', 0.963013698630137]]\n"
     ]
    }
   ],
   "source": [
    "sample_size = len(trainx_df)\n",
    "columns_with_null_values = []\n",
    "columns_with_null_values = [[col, float(trainx_df[col].isnull().sum())/float(sample_size)] for col in trainx_df.columns if trainx_df[col].isnull().sum()]\n",
    "print(columns_with_null_values)"
   ]
  },
  {
   "cell_type": "code",
   "execution_count": 7,
   "metadata": {},
   "outputs": [
    {
     "name": "stdout",
     "output_type": "stream",
     "text": [
      "['Alley', 'FireplaceQu', 'PoolQC', 'Fence', 'MiscFeature']\n"
     ]
    }
   ],
   "source": [
    "columns_to_drop = [x for (x,y) in columns_with_null_values if y>.3]\n",
    "print(columns_to_drop)"
   ]
  },
  {
   "cell_type": "code",
   "execution_count": 8,
   "metadata": {},
   "outputs": [],
   "source": [
    "trainx_df.drop(columns_to_drop, axis = 1, inplace=True)\n",
    "testx_df.drop(columns_to_drop, axis=1, inplace=True)"
   ]
  },
  {
   "cell_type": "code",
   "execution_count": 9,
   "metadata": {},
   "outputs": [],
   "source": [
    "categorical_columns = [col for col in trainx_df.columns if\n",
    "                      trainx_df[col].dtype == object]\n",
    "ordinal_columns = [col for col in trainx_df.columns if col not in categorical_columns]"
   ]
  },
  {
   "cell_type": "code",
   "execution_count": 10,
   "metadata": {},
   "outputs": [
    {
     "name": "stdout",
     "output_type": "stream",
     "text": [
      "['MSZoning', 'Street', 'LotShape', 'LandContour', 'Utilities', 'LotConfig', 'LandSlope', 'Neighborhood', 'Condition1', 'Condition2', 'BldgType', 'HouseStyle', 'RoofStyle', 'RoofMatl', 'Exterior1st', 'Exterior2nd', 'MasVnrType', 'ExterQual', 'ExterCond', 'Foundation', 'BsmtQual', 'BsmtCond', 'BsmtExposure', 'BsmtFinType1', 'BsmtFinType2', 'Heating', 'HeatingQC', 'CentralAir', 'Electrical', 'KitchenQual', 'Functional', 'GarageType', 'GarageFinish', 'GarageQual', 'GarageCond', 'PavedDrive', 'SaleType', 'SaleCondition']\n",
      "['', 'dummy', '', '', 'dummy', 'dummy', 'dummy', 'dummy', 'dummy', 'dummy', 'dummy', 'dummy', 'dummy', 'dummy', 'dummy', '', '', '', '', 'dummy', 'dummy', 'dummy', 'dummy', 'dummy', '', 'dummy', 'dummy', 'dummy', 'dummy', 'dummy', 'dummy', 'dummy', '', 'dummy', '', '', '', 'dummy', 'dummy', 'dummy', 'dummy', '', '', '', '', '', '', '', '', '', '', 'dummy', '', 'dummy', '', 'dummy', '', 'dummy', '', '', 'dummy', 'dummy', 'dummy', '', '', '', '', '', '', '', '', '', 'dummy', 'dummy']\n"
     ]
    }
   ],
   "source": [
    "#categorical_columns.append('MSSubClass')\n",
    "print(categorical_columns)\n",
    "dummy_row = list()\n",
    "for col in trainx_df.columns:\n",
    "    if col in categorical_columns:\n",
    "        dummy_row.append(\"dummy\")\n",
    "    else:\n",
    "        dummy_row.append(\"\")\n",
    "print(dummy_row)"
   ]
  },
  {
   "cell_type": "code",
   "execution_count": 11,
   "metadata": {},
   "outputs": [],
   "source": [
    "new_row = pd.DataFrame([dummy_row], columns = trainx_df.columns)\n",
    "trainx_df = pd.concat([trainx_df, new_row], axis = 0, ignore_index = True)\n",
    "testx_df = pd.concat([testx_df], axis = 0, ignore_index = True)\n",
    "# trainx_df.to_csv[\"dummy.csv\"]\n",
    "for col in categorical_columns:\n",
    "    trainx_df[col].fillna(value = \"dummy\", inplace = True)\n",
    "    testx_df[col].fillna(value = \"dummy\", inplace = True)"
   ]
  },
  {
   "cell_type": "code",
   "execution_count": 12,
   "metadata": {},
   "outputs": [
    {
     "name": "stdout",
     "output_type": "stream",
     "text": [
      "0      0\n",
      "1      0\n",
      "2      0\n",
      "3      0\n",
      "4      0\n",
      "      ..\n",
      "265    0\n",
      "266    0\n",
      "267    0\n",
      "268    0\n",
      "269    0\n",
      "Length: 270, dtype: int64\n"
     ]
    }
   ],
   "source": [
    "enc = OneHotEncoder(drop='first',sparse=False)\n",
    "enc.fit(trainx_df[categorical_columns])\n",
    "#print(enc.get_feature_names(categorical_columns))\n",
    "trainx_enc=pd.DataFrame(enc.transform(trainx_df[categorical_columns]))\n",
    "testx_enc = pd.DataFrame(enc.transform(testx_df[categorical_columns]))\n",
    "trainx_enc.columns=enc.get_feature_names(categorical_columns)\n",
    "testx_enc.columns=enc.get_feature_names(categorical_columns)\n",
    "trainx_df=pd.concat([trainx_df[ordinal_columns],trainx_enc],axis=1,ignore_index=\n",
    "                    True)\n",
    "testx_df=pd.concat([testx_df[ordinal_columns],testx_enc],axis=1,ignore_index=\n",
    "                    True)\n",
    "trainx_df.drop(trainx_df.tail(1).index,inplace=True)\n",
    "imputer = KNNImputer(n_neighbors=2)\n",
    "imputer.fit(trainx_df)\n",
    "trainx_df_filled=imputer.transform(trainx_df)\n",
    "trainx_df_filled = pd.DataFrame(trainx_df_filled,columns=trainx_df.columns)\n",
    "testx_df_filled=imputer.transform(testx_df)\n",
    "testx_df_filled = pd.DataFrame(testx_df_filled,columns=testx_df.columns)\n",
    "testx_df_filled.reset_index(drop=True,inplace=True)\n",
    "print(trainx_df_filled.isnull().sum())"
   ]
  },
  {
   "cell_type": "code",
   "execution_count": 13,
   "metadata": {},
   "outputs": [
    {
     "name": "stdout",
     "output_type": "stream",
     "text": [
      "[[ 0.07337496 -0.20803433 -0.20714171 ...  0.4676514  -0.30599503\n",
      "   0.        ]\n",
      " [-0.87256276  0.40989452 -0.09188637 ...  0.4676514  -0.30599503\n",
      "   0.        ]\n",
      " [ 0.07337496 -0.08444856  0.07347998 ...  0.4676514  -0.30599503\n",
      "   0.        ]\n",
      " ...\n",
      " [ 0.30985939 -0.16683907 -0.14781027 ...  0.4676514  -0.30599503\n",
      "   0.        ]\n",
      " [-0.87256276 -0.08444856 -0.08016039 ...  0.4676514  -0.30599503\n",
      "   0.        ]\n",
      " [-0.87256276  0.20391824 -0.05811155 ...  0.4676514  -0.30599503\n",
      "   0.        ]] [[-0.87256276  0.40989452  0.11076257 ...  0.4676514  -0.30599503\n",
      "   0.        ]\n",
      " [-0.87256276  0.45108977  0.37584985 ...  0.4676514  -0.30599503\n",
      "   0.        ]\n",
      " [ 0.07337496  0.16272298  0.33205282 ...  0.4676514  -0.30599503\n",
      "   0.        ]\n",
      " ...\n",
      " [-0.87256276  3.70551504  0.95042275 ... -2.13834494 -0.30599503\n",
      "   0.        ]\n",
      " [ 0.66458604 -0.3316201  -0.00759964 ...  0.4676514  -0.30599503\n",
      "   0.        ]\n",
      " [ 0.07337496  0.16272298 -0.08918038 ...  0.4676514  -0.30599503\n",
      "   0.        ]]\n"
     ]
    }
   ],
   "source": [
    "scale = \"Standard\"\n",
    "if scale == 'Standard':\n",
    "    scaler = preprocessing.StandardScaler().fit(trainx_df)\n",
    "    trainx_df=scaler.transform(trainx_df)\n",
    "    testx_df=scaler.transform(testx_df)\n",
    "elif scale == 'MinMax':\n",
    "    scaler=preprocessing.MinMaxScaler().fit(trainx_df)\n",
    "    trainx_df=scaler.transform(trainx_df)\n",
    "    testx_df=scaler.transform(testx_df)\n",
    "print(trainx_df,testx_df)"
   ]
  },
  {
   "cell_type": "code",
   "execution_count": 14,
   "metadata": {},
   "outputs": [],
   "source": [
    "scaler = preprocessing.StandardScaler().fit(trainx_df_filled)\n",
    "trainx_df_filled = scaler.transform(trainx_df_filled)\n",
    "testx_df_filled = scaler.transform(testx_df_filled)\n",
    "X_train, X_test, y_train, y_test = train_test_split(trainx_df_filled, trainy_df.values.ravel(), test_size = 0.3, random_state = 42)"
   ]
  },
  {
   "cell_type": "code",
   "execution_count": 15,
   "metadata": {},
   "outputs": [
    {
     "name": "stdout",
     "output_type": "stream",
     "text": [
      "0.9342381231479655\n",
      "-1.1686015869593065e+19\n",
      "[10.05, 16.82777777777778, 23.605555555555554, 30.383333333333333, 37.16111111111111, 43.93888888888888, 50.71666666666667, 57.49444444444444, 64.27222222222223, 71.05] \n",
      " [0.926411099, 0.9224066679, 0.9194145436, 0.9170660379, 0.9151401553, 0.9135052527, 0.912079598, 0.9108100917, 0.9096607818, 0.9086064324] \n",
      " [0.8492029537, 0.864585604, 0.8711695759, 0.8744543353, 0.8762460233, 0.8772736872, 0.8778747308, 0.8782214084, 0.8784084207, 0.8784909347]\n",
      "[10.05, 16.82777777777778, 23.605555555555554, 30.383333333333333, 37.16111111111111, 43.93888888888888, 50.71666666666667, 57.49444444444444, 64.27222222222223, 71.05] \n",
      " [442900354.4012, 467001325.2851, 485009650.8059, 499144309.876, 510735379.5534, 520575164.162, 529155574.8893, 536796193.9908, 543713402.7358, 550059083.7559] \n",
      " [1052275928.0717, 944934351.6123, 898990778.4192, 876069419.8607, 863566852.5495, 856395717.4619, 852201579.249, 849782430.2417, 848477440.9975, 847901650.2246]\n"
     ]
    },
    {
     "data": {
      "image/png": "[encoded data removed]",
      "text/plain": [
       "<Figure size 432x288 with 1 Axes>"
      ]
     },
     "metadata": {
      "needs_background": "light"
     },
     "output_type": "display_data"
    },
    {
     "data": {
      "image/png": "[encoded data removed]",
      "text/plain": [
       "<Figure size 432x288 with 1 Axes>"
      ]
     },
     "metadata": {
      "needs_background": "light"
     },
     "output_type": "display_data"
    }
   ],
   "source": [
    "reg = LinearRegression().fit(X_train, y_train)\n",
    "print(reg.score(X_train, y_train))\n",
    "print(reg.score(X_test, y_test))\n",
    "score_train=[]\n",
    "score_test=[]\n",
    "mse_train=[]\n",
    "mse_test=[]\n",
    "alpha=[]\n",
    "for sigma in np.linspace(10.05, 71.05, 10):\n",
    "    alpha.append(sigma)\n",
    "    reg = Ridge(alpha = sigma, tol = 0.0001)\n",
    "    reg = reg.fit(X_train, y_train)\n",
    "    pred = pd.DataFrame(reg.predict(testx_df_filled))\n",
    "    score_train.append(round(reg.score(X_train, y_train),10))\n",
    "    score_test.append(round(reg.score(X_test, y_test),10))\n",
    "    mse_train.append(round(mserr(y_train,reg.predict(X_train)),4))\n",
    "    mse_test.append(round(mserr(y_test,reg.predict(X_test)),4))\n",
    "    testpred = pd.DataFrame(reg.predict(testx_df_filled))\n",
    "    testpred.to_csv(\"test_pred.csv\")\n",
    "print(alpha, '\\n', score_train, '\\n', score_test)\n",
    "print(alpha, '\\n', mse_train, '\\n', mse_test)\n",
    "plt.figure(1)\n",
    "plt.plot(alpha, score_train, 'g--', label = \"train_score\")\n",
    "plt.plot(alpha, score_test, 'r-o', label = \"test_score\")\n",
    "plt.xlabel = 'Alpha'\n",
    "plt.legend()\n",
    "plt.figure(2)\n",
    "plt.plot(alpha, mse_train, 'y--',label = \"train_mse\")\n",
    "plt.plot(alpha, mse_test, 'c-o',label = \"test_mse\")\n",
    "plt.xlabel = 'Alpha'\n",
    "plt.legend()\n",
    "plt.show()"
   ]
  },
  {
   "cell_type": "code",
   "execution_count": null,
   "metadata": {},
   "outputs": [],
   "source": []
  },
  {
   "cell_type": "code",
   "execution_count": null,
   "metadata": {},
   "outputs": [],
   "source": []
  }
 ],
 "metadata": {
  "kernelspec": {
   "display_name": "Python 3",
   "language": "python",
   "name": "python3"
  },
  "language_info": {
   "codemirror_mode": {
    "name": "ipython",
    "version": 3
   },
   "file_extension": ".py",
   "mimetype": "text/x-python",
   "name": "python",
   "nbconvert_exporter": "python",
   "pygments_lexer": "ipython3",
   "version": "3.8.3"
  }
 },
 "nbformat": 4,
 "nbformat_minor": 4
}
