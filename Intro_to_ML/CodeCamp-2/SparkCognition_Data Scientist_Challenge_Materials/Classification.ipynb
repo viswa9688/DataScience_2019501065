{
 "cells": [
  {
   "cell_type": "code",
   "execution_count": 22,
   "metadata": {},
   "outputs": [],
   "source": [
    "import pandas as pd\n",
    "import numpy as np\n",
    "from matplotlib import pyplot as plt\n",
    "from sklearn.preprocessing import OneHotEncoder\n",
    "from sklearn.model_selection import train_test_split\n",
    "from sklearn import preprocessing\n",
    "from sklearn.impute import KNNImputer\n",
    "from sklearn.linear_model import Ridge\n",
    "# from sklearn.linear_model import LinearRegression\n",
    "# from sklearn.metrics import mean_squared_error as mserr\n",
    "from sklearn.decomposition import PCA\n",
    "from sklearn.linear_model import LogisticRegression\n",
    "from sklearn import svm\n",
    "from sklearn.svm import SVC\n",
    "from sklearn.metrics import classification_report\n",
    "from sklearn.metrics import roc_auc_score\n",
    "from sklearn.metrics import roc_curve\n",
    "from sklearn.metrics import auc\n",
    "from sklearn.neural_network import MLPClassifier"
   ]
  },
  {
   "cell_type": "code",
   "execution_count": 23,
   "metadata": {},
   "outputs": [],
   "source": [
    "#read train and test datasets into pandas DataFrames trainx_df, trainy_df,testx_df\n",
    "def readDataSets(train_path, test_path, predict_col, index_col = None):\n",
    "    \n",
    "    if index_col == None:\n",
    "        trainx_df = pd.read_csv(train_path)\n",
    "        trainy_df = trainx_df[predict_col]\n",
    "        trainy_df.hist()\n",
    "        trainx_df.drop(predict_col,axis = 1,inplace = True)\n",
    "        testx_df = pd.read_csv(test_path)\n",
    "    else:\n",
    "        trainx_df = pd.read_csv(train_path,index_col = 'Id')\n",
    "        trainy_df = trainx_df[predict_col]\n",
    "        trainx_df.drop(predict_col,axis = 1,inplace = True)\n",
    "        testx_df = pd.read_csv(test_path,index_col='Id')\n",
    "    return trainx_df,trainy_df,testx_df"
   ]
  },
  {
   "cell_type": "code",
   "execution_count": 24,
   "metadata": {},
   "outputs": [],
   "source": [
    "# As a first step of pre-processing remove columns with null value ratio greater than provided limit\n",
    "def dropFeturesWithNullValuesGreaterThanALimit(trainx_df, testx_df, null_ratio = 0.3):\n",
    "    sample_size = len(trainx_df)\n",
    "    columns_with_null_values = [[col, float(trainx_df[col].isnull().sum())/float(sample_size)] for col in trainx_df.columns if trainx_df[col].isnull().sum()]\n",
    "    columns_to_drop = [x for (x,y) in columns_with_null_values if y > null_ratio]\n",
    "    trainx_df.drop(columns_to_drop, axis = 1, inplace = True)\n",
    "    testx_df.drop(columns_to_drop, axis = 1, inplace = True)\n",
    "    return trainx_df,testx_df\n"
   ]
  },
  {
   "cell_type": "code",
   "execution_count": 25,
   "metadata": {},
   "outputs": [],
   "source": [
    "\n",
    "# As a second pre-processing step find all categorical columns and one hot  encode them. Before one hot encode fill all null values with dummy in those columns.  Some categorical columns in trainx_df may not have null values in trainx_df but have null values in testx_df. To overcome this problem we will add a row to the trainx_df with all dummy values for categorical values. Once one hot encoding is complete drop the added dummy column\n",
    "def oneHotEncode(trainx_df,testx_df):\n",
    "    categorical_columns = [col for col in trainx_df.columns if trainx_df[col].dtype == object]\n",
    "    ordinal_columns = [col for col in trainx_df.columns if col not in categorical_columns]\n",
    "    dummy_row = list()\n",
    "    for col in trainx_df.columns:\n",
    "        if col in categorical_columns:\n",
    "            dummy_row.append(\"dummy\")\n",
    "        else:\n",
    "            dummy_row.append(\"\")\n",
    "    new_row = pd.DataFrame([dummy_row], columns = trainx_df.columns)\n",
    "    trainx_df = pd.concat([trainx_df,new_row], axis = 0, ignore_index = True)\n",
    "    testx_df = pd.concat([testx_df],axis = 0, ignore_index = True)\n",
    "    for col in categorical_columns:\n",
    "        trainx_df[col].fillna(value = \"dummy\", inplace = True)\n",
    "        testx_df[col].fillna(value = \"dummy\", inplace = True)\n",
    "    enc = OneHotEncoder(drop = 'first', sparse = False)\n",
    "    enc.fit(trainx_df[categorical_columns])\n",
    "    trainx_enc = pd.DataFrame(enc.transform(trainx_df[categorical_columns]))\n",
    "    testx_enc = pd.DataFrame(enc.transform(testx_df[categorical_columns]))\n",
    "    trainx_enc.columns = enc.get_feature_names(categorical_columns)\n",
    "    testx_enc.columns = enc.get_feature_names(categorical_columns)\n",
    "    trainx_df = pd.concat([trainx_df[ordinal_columns], trainx_enc], axis = 1, ignore_index = True)\n",
    "    testx_df = pd.concat([testx_df[ordinal_columns], testx_enc], axis = 1, ignore_index = True)\n",
    "    trainx_df.drop(trainx_df.tail(1).index, inplace = True)\n",
    "    return trainx_df,testx_df"
   ]
  },
  {
   "cell_type": "code",
   "execution_count": 26,
   "metadata": {},
   "outputs": [],
   "source": [
    "\n",
    "# As a third step of pre-processing fill all missing values for ordinal features\n",
    "def fillMissingValues(trainx_df,testx_df):\n",
    "    imputer = KNNImputer(n_neighbors = 2)\n",
    "    imputer.fit(trainx_df)\n",
    "    trainx_df_filled = imputer.transform(trainx_df)\n",
    "    trainx_df_filled = pd.DataFrame(trainx_df_filled, columns = trainx_df.columns)\n",
    "    testx_df_filled = imputer.transform(testx_df)\n",
    "    testx_df_filled = pd.DataFrame(testx_df_filled, columns = testx_df.columns)\n",
    "    testx_df_filled.reset_index(drop = True, inplace = True)\n",
    "    return trainx_df_filled,testx_df_filled"
   ]
  },
  {
   "cell_type": "code",
   "execution_count": 27,
   "metadata": {},
   "outputs": [],
   "source": [
    "\n",
    "# As a fourth step of pre-processing scale all the features either through Standard scores or MinMax scaling\n",
    "def scaleFetures(trainx_df,testx_df,scale = 'Standard'):\n",
    "    if scale == 'Standard':\n",
    "        scaler = preprocessing.StandardScaler().fit(trainx_df)\n",
    "        trainx_df = scaler.transform(trainx_df)\n",
    "        testx_df = scaler.transform(testx_df)\n",
    "    elif scale == 'MinMax':\n",
    "        scaler = preprocessing.MinMaxScaler().fit(trainx_df)\n",
    "        trainx_df = scaler.transform(trainx_df)\n",
    "        testx_df = scaler.transform(testx_df)\n",
    "    return trainx_df,testx_df"
   ]
  },
  {
   "cell_type": "code",
   "execution_count": 28,
   "metadata": {},
   "outputs": [],
   "source": [
    "\n",
    "#As fifth step of preprocessing apply PCA\n",
    "def findPrincipalComponents(trainx_df, testx_df):\n",
    "    pca = PCA().fit(trainx_df)\n",
    "    itemindex = np.where(np.cumsum(pca.explained_variance_ratio_) > 0.9999)\n",
    "    print('np.cumsum(pca.explained_variance_ratio_)', np.cumsum(pca.explained_variance_ratio_))\n",
    "    #Plotting the Cumulative Summation of the Explained Variance\n",
    "    plt.figure(np.cumsum(pca.explained_variance_ratio_)[0])\n",
    "    plt.plot(np.cumsum(pca.explained_variance_ratio_))\n",
    "    plt.xlabel('Number of Components')\n",
    "    plt.ylabel('Variance (%)') \n",
    "    #for each component\n",
    "    plt.title('Principal Components Explained Variance')\n",
    "    plt.show()\n",
    "    pca_std = PCA(n_components=itemindex[0][0]).fit(trainx_df)\n",
    "    trainx_df = pca_std.transform(trainx_df)\n",
    "    testx_df = pca_std.transform(testx_df)\n",
    "    return trainx_df, testx_df\n"
   ]
  },
  {
   "cell_type": "code",
   "execution_count": 29,
   "metadata": {},
   "outputs": [],
   "source": [
    "\n",
    "# Change labels into 0 and 1\n",
    "def encodeLabelsToZeroAndOne(trainy_df):\n",
    "    le = preprocessing.LabelEncoder()\n",
    "    trainy_df = le.fit_transform(trainy_df)\n",
    "    return trainy_df"
   ]
  },
  {
   "cell_type": "code",
   "execution_count": 30,
   "metadata": {},
   "outputs": [],
   "source": [
    "# As a fifth step of pre-processing split the trainx_df into tow parts to build a model and test how is it working to pick best model\n",
    "def splitTrainAndTest(trainx_df, trainy_df,split_ratio=0.3):\n",
    "    X_train, X_test, y_train, y_test = train_test_split(trainx_df, trainy_df, test_size=split_ratio, random_state=42)\n",
    "    return X_train, X_test, y_train, y_test"
   ]
  },
  {
   "cell_type": "code",
   "execution_count": 31,
   "metadata": {},
   "outputs": [],
   "source": [
    "# Fit Logistic Regression Model\n",
    "def getLogisticRegressionModel(X_train, y_train, reg_par = 0.00001, max_iterations = 1000000):\n",
    "    logreg = LogisticRegression(class_weight = \"balanced\", C = reg_par, max_iter = max_iterations)\n",
    "    logreg.fit(X_train, y_train)\n",
    "    return logreg"
   ]
  },
  {
   "cell_type": "code",
   "execution_count": 32,
   "metadata": {},
   "outputs": [],
   "source": [
    "\n",
    "#Fit SVM Classification Model\n",
    "def getSVClassificationModel(X_train, y_train, reg_par = 1.0, deg = 3, ker = 'rbf'):\n",
    "    svcmodel = SVC(C = reg_par, degree = deg, kernel=ker)\n",
    "    svcmodel.fit(X_train, y_train)\n",
    "    return svcmodel"
   ]
  },
  {
   "cell_type": "code",
   "execution_count": 33,
   "metadata": {},
   "outputs": [],
   "source": [
    "\n",
    "#get BackPropagation Model MLP classifier in scikitlearn we can see hidden layers\n",
    "def getBackPropagationModel(X_train, y_train,sol = 'lbfgs', reg_par = 1e-5, hid_layer_sizes = (5, ), random_state = 1, maxi_iter = 1000):\n",
    "    nn_bp_model = MLPClassifier(solver = sol, alpha = reg_par, hidden_layer_sizes = hid_layer_sizes, random_state = 1, max_iter = maxi_iter)\n",
    "    nn_bp_model.fit(X_train, y_train)\n",
    "    return nn_bp_model"
   ]
  },
  {
   "cell_type": "code",
   "execution_count": 34,
   "metadata": {},
   "outputs": [],
   "source": [
    "# K-means model\n",
    "def getKmeansClusteringModel(X_train, y_train, n_clusts = 8, n_init = 10, max_iter = 300, tol = 0.0001):\n",
    "        KmeansModel = KMeans(n_clusters = n_clusts, random_state = 0).fit(X_train)\n",
    "        return KmeansModel"
   ]
  },
  {
   "cell_type": "code",
   "execution_count": 35,
   "metadata": {},
   "outputs": [],
   "source": [
    "def getScores(model,X_train, X_test, y_train, y_test):\n",
    "    '''THRESHOLD = 0.5\n",
    "    yhat = np.where(model.predict_proba(X_test)[:,1] > THRESHOLD, 1, 0)'''\n",
    "    yprobs = model.predict_log_proba(X_test)\n",
    "    yprobs = yprobs[:,1]\n",
    "    ras = roc_auc_score(y_test,yprobs,average = 'weighted')\n",
    "    print(ras)\n",
    "    yhat = model.predict(X_test)\n",
    "    \n",
    "    #pd.DataFrame(yhat).to_csv(model)\n",
    "    TP, TN, FP, FN = 0, 0, 0, 0\n",
    "    for i in range(len(yhat)):\n",
    "        if yhat[i] == 0:\n",
    "            if y_test[i] == 0:\n",
    "                TN += 1\n",
    "            else:\n",
    "                FN += 1\n",
    "        else:\n",
    "            if y_test[i] == 1:\n",
    "                TP += 1\n",
    "            else:\n",
    "                FP += 1\n",
    "    print(classification_report(y_test, yhat))\n",
    "    print(classification_report(y_test,yhat,output_dict = True)['1']['precision'], classification_report(y_test, yhat, output_dict = True)['1']['recall'])\n",
    "    fpr, tpr, threshold = roc_curve(y_test, yprobs)\n",
    "    roc_auc = auc(fpr, tpr)\n",
    "    plt.title('Receiver Operating Characteristic')\n",
    "    plt.plot(fpr, tpr, 'b', label = 'AUC = %0.2f' % roc_auc)\n",
    "    plt.legend(loc = 'lower right')\n",
    "    plt.plot([0, 1], [0, 1],'r--')\n",
    "    plt.xlim([0, 1])\n",
    "    plt.ylim([0, 1])\n",
    "    plt.ylabel('True Positive Rate')\n",
    "    plt.xlabel('False Positive Rate')\n",
    "    plt.show()\n",
    "    return([TP, TN, FP, FN, TP/(TP + FN), TN/(TN + FP)])"
   ]
  },
  {
   "cell_type": "code",
   "execution_count": 36,
   "metadata": {},
   "outputs": [],
   "source": [
    "# get Scores for SVC\n",
    "def getScoresForSVC(model, X_train, X_test, y_train, y_test):\n",
    "    yhat = model.predict(X_test)  \n",
    "    #pd.DataFrame(yhat).to_csv(model)\n",
    "    TP, TN, FP, FN = 0, 0, 0, 0\n",
    "    for i in range(len(yhat)):\n",
    "        if yhat[i] == 0:\n",
    "            if y_test[i] == 0:\n",
    "                TN += 1\n",
    "            else:\n",
    "                FN += 1\n",
    "        else:\n",
    "            if y_test[i] == 1:\n",
    "                TP += 1\n",
    "            else:\n",
    "                FP += 1\n",
    "    print(classification_report(y_test, yhat))\n",
    "    print(classification_report(y_test, yhat, output_dict=True)['1']['precision'], classification_report(y_test, yhat, output_dict = True)['1']['recall'])\n",
    "    return([TP, TN, FP, FN, TP/(TP + FN), TN/(TN + FP)])"
   ]
  },
  {
   "cell_type": "code",
   "execution_count": 37,
   "metadata": {
    "scrolled": true
   },
   "outputs": [
    {
     "name": "stdout",
     "output_type": "stream",
     "text": [
      "np.cumsum(pca.explained_variance_ratio_) [0.10556106 0.15411495 0.19643988 0.23476932 0.2719896  0.3049957\n",
      " 0.3359417  0.36529616 0.39313832 0.42013794 0.44601909 0.47087749\n",
      " 0.49432268 0.51660722 0.53833372 0.55899851 0.57945657 0.59973984\n",
      " 0.61987363 0.6398666  0.6593861  0.67761315 0.69576557 0.71344004\n",
      " 0.73105196 0.74848247 0.76573186 0.78243455 0.79904326 0.81549941\n",
      " 0.83176839 0.84745606 0.86288147 0.87829062 0.89315374 0.9074046\n",
      " 0.92053081 0.93347961 0.94606333 0.95672836 0.96512835 0.97160422\n",
      " 0.97790947 0.98211859 0.986221   0.98967053 0.99294856 0.99488901\n",
      " 0.99666183 0.99788993 0.99891246 0.99989747 0.99996474 0.99999991\n",
      " 1.         1.         1.         1.         1.         1.\n",
      " 1.         1.         1.         1.        ]\n"
     ]
    },
    {
     "data": {
      "image/png": "[encoded data removed]",
      "text/plain": [
       "<Figure size 432x288 with 1 Axes>"
      ]
     },
     "metadata": {
      "needs_background": "light"
     },
     "output_type": "display_data"
    },
    {
     "data": {
      "image/png": "[encoded data removed]",
      "text/plain": [
       "<Figure size 432x288 with 1 Axes>"
      ]
     },
     "metadata": {
      "needs_background": "light"
     },
     "output_type": "display_data"
    },
    {
     "name": "stdout",
     "output_type": "stream",
     "text": [
      "0.7793393572616478\n",
      "              precision    recall  f1-score   support\n",
      "\n",
      "           0       0.94      0.85      0.89      1942\n",
      "           1       0.37      0.60      0.46       283\n",
      "\n",
      "    accuracy                           0.82      2225\n",
      "   macro avg       0.65      0.72      0.67      2225\n",
      "weighted avg       0.86      0.82      0.84      2225\n",
      "\n",
      "0.3706140350877193 0.5971731448763251\n"
     ]
    },
    {
     "data": {
      "image/png": "[encoded data removed]",
      "text/plain": [
       "<Figure size 432x288 with 1 Axes>"
      ]
     },
     "metadata": {
      "needs_background": "light"
     },
     "output_type": "display_data"
    },
    {
     "name": "stdout",
     "output_type": "stream",
     "text": [
      "Results for SVM Classifier\n"
     ]
    }
   ],
   "source": [
    "# Tune regularization Parameter based on f1 value or mse\n",
    "def predictTestx(Model, testx_df):\n",
    "    testpred = pd.DataFrame(Model.predict(testx_df))\n",
    "    testpred.to_csv(\"test_pred.csv\")\n",
    "\n",
    "trainx_df, trainy_df, testx_df = readDataSets(\"C:\\\\Users\\\\HARIKA\\\\Desktop\\\\DataScience_2019501065\\\\Intro_to_ML\\\\CodeCamp-2\\\\SparkCognition_Data Scientist_Challenge_Materials\\\\marketing_training.csv\",\"C:\\\\Users\\\\HARIKA\\\\Desktop\\\\DataScience_2019501065\\\\Intro_to_ML\\\\CodeCamp-2\\\\SparkCognition_Data Scientist_Challenge_Materials\\\\marketing_test.csv\", predict_col='responded')\n",
    "trainx_df, testx_df = dropFeturesWithNullValuesGreaterThanALimit(trainx_df, testx_df,null_ratio=0.5)\n",
    "trainx_df, testx_df = oneHotEncode(trainx_df, testx_df)\n",
    "trainx_df, testx_df = fillMissingValues(trainx_df, testx_df)\n",
    "trainx_df, testx_df = scaleFetures(trainx_df, testx_df, scale ='Standard')\n",
    "trainy_df = encodeLabelsToZeroAndOne(trainy_df)\n",
    "trainx_df, testx_df = findPrincipalComponents(trainx_df, testx_df)\n",
    "X_train, X_test, y_train, y_test = splitTrainAndTest(trainx_df, trainy_df, split_ratio = 0.3)\n",
    "LogRegModel = getLogisticRegressionModel(X_train, y_train)\n",
    "getScores(LogRegModel, X_train, X_test, y_train, y_test)\n",
    "print(\"Results for SVM Classifier\")"
   ]
  },
  {
   "cell_type": "code",
   "execution_count": 38,
   "metadata": {},
   "outputs": [
    {
     "name": "stdout",
     "output_type": "stream",
     "text": [
      "0.7156577860425848\n",
      "              precision    recall  f1-score   support\n",
      "\n",
      "           0       0.90      0.96      0.93      1942\n",
      "           1       0.51      0.26      0.34       283\n",
      "\n",
      "    accuracy                           0.87      2225\n",
      "   macro avg       0.71      0.61      0.64      2225\n",
      "weighted avg       0.85      0.87      0.86      2225\n",
      "\n",
      "0.5140845070422535 0.2579505300353357\n"
     ]
    },
    {
     "data": {
      "image/png": "[encoded data removed]",
      "text/plain": [
       "<Figure size 432x288 with 1 Axes>"
      ]
     },
     "metadata": {
      "needs_background": "light"
     },
     "output_type": "display_data"
    },
    {
     "data": {
      "text/plain": [
       "'LRModel=getLinearRegressionModel(X_train, y_train)\\nRidgeModel=getRidgeRegressionModel(X_train, y_train,tolerence=0.0001,reg_par=0.5)\\ngetRSqureandMSEVsAlphaPlots(X_train, X_test, y_train, y_test,alpha_start=130,alpha_end=146,jumps=10)'"
      ]
     },
     "execution_count": 38,
     "metadata": {},
     "output_type": "execute_result"
    }
   ],
   "source": [
    "nn_bp_model = getBackPropagationModel(X_train, y_train, sol = 'lbfgs', reg_par = 0.01, hid_layer_sizes = (7, ), random_state = 1, maxi_iter = 10000)\n",
    "getScores(nn_bp_model, X_train, X_test, y_train, y_test)\n",
    "'''LRModel=getLinearRegressionModel(X_train, y_train)\n",
    "RidgeModel=getRidgeRegressionModel(X_train, y_train,tolerence=0.0001,reg_par=0.5)\n",
    "getRSqureandMSEVsAlphaPlots(X_train, X_test, y_train, y_test,alpha_start=130,alpha_end=146,jumps=10)'''"
   ]
  },
  {
   "cell_type": "code",
   "execution_count": 39,
   "metadata": {},
   "outputs": [
    {
     "name": "stdout",
     "output_type": "stream",
     "text": [
      "              precision    recall  f1-score   support\n",
      "\n",
      "           0       0.89      0.99      0.94      1942\n",
      "           1       0.71      0.18      0.29       283\n",
      "\n",
      "    accuracy                           0.89      2225\n",
      "   macro avg       0.80      0.59      0.62      2225\n",
      "weighted avg       0.87      0.89      0.86      2225\n",
      "\n",
      "0.7123287671232876 0.18374558303886926\n",
      "Results for Back Propagation Classifier\n"
     ]
    }
   ],
   "source": [
    "\n",
    "svcmodel = getSVClassificationModel(X_train, y_train, reg_par = 0.5, deg = 2, ker = 'poly')\n",
    "getScoresForSVC(svcmodel, X_train, X_test, y_train, y_test)\n",
    "print(\"Results for Back Propagation Classifier\")"
   ]
  },
  {
   "cell_type": "code",
   "execution_count": null,
   "metadata": {},
   "outputs": [],
   "source": []
  }
 ],
 "metadata": {
  "kernelspec": {
   "display_name": "Python 3",
   "language": "python",
   "name": "python3"
  },
  "language_info": {
   "codemirror_mode": {
    "name": "ipython",
    "version": 3
   },
   "file_extension": ".py",
   "mimetype": "text/x-python",
   "name": "python",
   "nbconvert_exporter": "python",
   "pygments_lexer": "ipython3",
   "version": "3.8.3"
  }
 },
 "nbformat": 4,
 "nbformat_minor": 4
}
